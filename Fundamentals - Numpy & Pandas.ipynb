{
 "cells": [
  {
   "cell_type": "code",
   "execution_count": 1,
   "metadata": {},
   "outputs": [],
   "source": [
    "import numpy as np"
   ]
  },
  {
   "cell_type": "code",
   "execution_count": 16,
   "metadata": {},
   "outputs": [
    {
     "data": {
      "text/plain": [
       "array([[0.37454012, 0.95071431, 0.73199394, 0.59865848],\n",
       "       [0.15601864, 0.15599452, 0.05808361, 0.86617615],\n",
       "       [0.60111501, 0.70807258, 0.02058449, 0.96990985]])"
      ]
     },
     "execution_count": 16,
     "metadata": {},
     "output_type": "execute_result"
    }
   ],
   "source": [
    "np.random.seed(42)                   #seed for generating random numbers\n",
    "data = np.random.random((3,4))       #generate random numbers of shape (3,4)\n",
    "data"
   ]
  },
  {
   "cell_type": "code",
   "execution_count": 17,
   "metadata": {},
   "outputs": [
    {
     "data": {
      "text/plain": [
       "dtype('float64')"
      ]
     },
     "execution_count": 17,
     "metadata": {},
     "output_type": "execute_result"
    }
   ],
   "source": [
    "data.dtype                          #data type of our data"
   ]
  },
  {
   "cell_type": "code",
   "execution_count": 19,
   "metadata": {},
   "outputs": [
    {
     "data": {
      "text/plain": [
       "array([12. , 13.9, 15.8, 17.7, 19.6])"
      ]
     },
     "execution_count": 19,
     "metadata": {},
     "output_type": "execute_result"
    }
   ],
   "source": [
    "np.arange(12,20,1.9)               #arange numbers from 12 to 20 with a gap of 1.9 between each numbers"
   ]
  },
  {
   "cell_type": "code",
   "execution_count": 20,
   "metadata": {},
   "outputs": [
    {
     "data": {
      "text/plain": [
       "array([0, 1, 2, 3, 4, 5, 6, 7, 8, 9])"
      ]
     },
     "execution_count": 20,
     "metadata": {},
     "output_type": "execute_result"
    }
   ],
   "source": [
    "np.arange(0,10)                    #arange numbers from 0 to 10 with a gap of 1 between each numbers"
   ]
  },
  {
   "cell_type": "code",
   "execution_count": 22,
   "metadata": {},
   "outputs": [
    {
     "data": {
      "text/plain": [
       "array([3.  , 3.25, 3.5 , 3.75, 4.  ])"
      ]
     },
     "execution_count": 22,
     "metadata": {},
     "output_type": "execute_result"
    }
   ],
   "source": [
    "np.linspace(3,4,5)                 #generate numbers from 3 to 4 with 5 numbers"
   ]
  },
  {
   "cell_type": "code",
   "execution_count": 23,
   "metadata": {},
   "outputs": [
    {
     "data": {
      "text/plain": [
       "array([[0., 0., 0., 0., 0.],\n",
       "       [0., 0., 0., 0., 0.],\n",
       "       [0., 0., 0., 0., 0.]])"
      ]
     },
     "execution_count": 23,
     "metadata": {},
     "output_type": "execute_result"
    }
   ],
   "source": [
    "np.zeros((3,5))                    #generate (3,5) matrix of zeros"
   ]
  },
  {
   "cell_type": "code",
   "execution_count": 24,
   "metadata": {},
   "outputs": [
    {
     "data": {
      "text/plain": [
       "array([[1., 1., 1., 1., 1., 1., 1., 1., 1.],\n",
       "       [1., 1., 1., 1., 1., 1., 1., 1., 1.]])"
      ]
     },
     "execution_count": 24,
     "metadata": {},
     "output_type": "execute_result"
    }
   ],
   "source": [
    "np.ones((2,9))                    #generate (2,9) matrix of ones"
   ]
  },
  {
   "cell_type": "code",
   "execution_count": 25,
   "metadata": {},
   "outputs": [],
   "source": [
    "a = np.random.random((2,4))\n",
    "b = np.ones((2,4))"
   ]
  },
  {
   "cell_type": "code",
   "execution_count": 26,
   "metadata": {},
   "outputs": [
    {
     "data": {
      "text/plain": [
       "array([[0.83244264, 0.21233911, 0.18182497, 0.18340451],\n",
       "       [0.30424224, 0.52475643, 0.43194502, 0.29122914]])"
      ]
     },
     "execution_count": 26,
     "metadata": {},
     "output_type": "execute_result"
    }
   ],
   "source": [
    "a*b                              #element-wise multiplication"
   ]
  },
  {
   "cell_type": "code",
   "execution_count": 27,
   "metadata": {},
   "outputs": [
    {
     "data": {
      "text/plain": [
       "array([[1.83244264, 1.21233911, 1.18182497, 1.18340451],\n",
       "       [1.30424224, 1.52475643, 1.43194502, 1.29122914]])"
      ]
     },
     "execution_count": 27,
     "metadata": {},
     "output_type": "execute_result"
    }
   ],
   "source": [
    "a+b                              #element-wise addition"
   ]
  },
  {
   "cell_type": "code",
   "execution_count": 28,
   "metadata": {},
   "outputs": [
    {
     "data": {
      "text/plain": [
       "array([[-0.16755736, -0.78766089, -0.81817503, -0.81659549],\n",
       "       [-0.69575776, -0.47524357, -0.56805498, -0.70877086]])"
      ]
     },
     "execution_count": 28,
     "metadata": {},
     "output_type": "execute_result"
    }
   ],
   "source": [
    "a-b                             #element-wise subtraction"
   ]
  },
  {
   "cell_type": "code",
   "execution_count": 29,
   "metadata": {},
   "outputs": [
    {
     "data": {
      "text/plain": [
       "array([[0.83244264, 0.21233911, 0.18182497, 0.18340451],\n",
       "       [0.30424224, 0.52475643, 0.43194502, 0.29122914]])"
      ]
     },
     "execution_count": 29,
     "metadata": {},
     "output_type": "execute_result"
    }
   ],
   "source": [
    "a/b                         #element-wise division"
   ]
  },
  {
   "cell_type": "code",
   "execution_count": 31,
   "metadata": {},
   "outputs": [],
   "source": [
    "c = np.random.random((5,9))\n",
    "d = np.ones((9,5))"
   ]
  },
  {
   "cell_type": "code",
   "execution_count": 32,
   "metadata": {},
   "outputs": [
    {
     "data": {
      "text/plain": [
       "array([[3.95742198, 3.95742198, 3.95742198, 3.95742198, 3.95742198],\n",
       "       [4.01477178, 4.01477178, 4.01477178, 4.01477178, 4.01477178],\n",
       "       [3.91832293, 3.91832293, 3.91832293, 3.91832293, 3.91832293],\n",
       "       [6.35045071, 6.35045071, 6.35045071, 6.35045071, 6.35045071],\n",
       "       [2.78148465, 2.78148465, 2.78148465, 2.78148465, 2.78148465]])"
      ]
     },
     "execution_count": 32,
     "metadata": {},
     "output_type": "execute_result"
    }
   ],
   "source": [
    "c.dot(d)    #dot product,i.e,multiplication of first row of c with first column of d and so on(Regular matrix multiplication)"
   ]
  },
  {
   "cell_type": "code",
   "execution_count": 33,
   "metadata": {},
   "outputs": [
    {
     "data": {
      "text/plain": [
       "array([[1.95109686, 1.92988435, 0.81478875, 2.2215053 , 2.60315416,\n",
       "        3.87097637, 2.99041597, 2.4360238 , 2.2046065 ],\n",
       "       [1.95109686, 1.92988435, 0.81478875, 2.2215053 , 2.60315416,\n",
       "        3.87097637, 2.99041597, 2.4360238 , 2.2046065 ],\n",
       "       [1.95109686, 1.92988435, 0.81478875, 2.2215053 , 2.60315416,\n",
       "        3.87097637, 2.99041597, 2.4360238 , 2.2046065 ],\n",
       "       [1.95109686, 1.92988435, 0.81478875, 2.2215053 , 2.60315416,\n",
       "        3.87097637, 2.99041597, 2.4360238 , 2.2046065 ],\n",
       "       [1.95109686, 1.92988435, 0.81478875, 2.2215053 , 2.60315416,\n",
       "        3.87097637, 2.99041597, 2.4360238 , 2.2046065 ],\n",
       "       [1.95109686, 1.92988435, 0.81478875, 2.2215053 , 2.60315416,\n",
       "        3.87097637, 2.99041597, 2.4360238 , 2.2046065 ],\n",
       "       [1.95109686, 1.92988435, 0.81478875, 2.2215053 , 2.60315416,\n",
       "        3.87097637, 2.99041597, 2.4360238 , 2.2046065 ],\n",
       "       [1.95109686, 1.92988435, 0.81478875, 2.2215053 , 2.60315416,\n",
       "        3.87097637, 2.99041597, 2.4360238 , 2.2046065 ],\n",
       "       [1.95109686, 1.92988435, 0.81478875, 2.2215053 , 2.60315416,\n",
       "        3.87097637, 2.99041597, 2.4360238 , 2.2046065 ]])"
      ]
     },
     "execution_count": 33,
     "metadata": {},
     "output_type": "execute_result"
    }
   ],
   "source": [
    "d.dot(c)   #dot product,i.e,multiplication of first row of d with first column of c and so on(Regular matrix multiplication)"
   ]
  },
  {
   "cell_type": "code",
   "execution_count": 34,
   "metadata": {},
   "outputs": [
    {
     "data": {
      "text/plain": [
       "array([[3.95742198, 3.95742198, 3.95742198, 3.95742198, 3.95742198],\n",
       "       [4.01477178, 4.01477178, 4.01477178, 4.01477178, 4.01477178],\n",
       "       [3.91832293, 3.91832293, 3.91832293, 3.91832293, 3.91832293],\n",
       "       [6.35045071, 6.35045071, 6.35045071, 6.35045071, 6.35045071],\n",
       "       [2.78148465, 2.78148465, 2.78148465, 2.78148465, 2.78148465]])"
      ]
     },
     "execution_count": 34,
     "metadata": {},
     "output_type": "execute_result"
    }
   ],
   "source": [
    "np.dot(c,d) #dot product,i.e,multiplication of first row of c with first column of d and so on(Regular matrix multiplication)"
   ]
  },
  {
   "cell_type": "code",
   "execution_count": 35,
   "metadata": {},
   "outputs": [
    {
     "data": {
      "text/plain": [
       "array([[1.95109686, 1.92988435, 0.81478875, 2.2215053 , 2.60315416,\n",
       "        3.87097637, 2.99041597, 2.4360238 , 2.2046065 ],\n",
       "       [1.95109686, 1.92988435, 0.81478875, 2.2215053 , 2.60315416,\n",
       "        3.87097637, 2.99041597, 2.4360238 , 2.2046065 ],\n",
       "       [1.95109686, 1.92988435, 0.81478875, 2.2215053 , 2.60315416,\n",
       "        3.87097637, 2.99041597, 2.4360238 , 2.2046065 ],\n",
       "       [1.95109686, 1.92988435, 0.81478875, 2.2215053 , 2.60315416,\n",
       "        3.87097637, 2.99041597, 2.4360238 , 2.2046065 ],\n",
       "       [1.95109686, 1.92988435, 0.81478875, 2.2215053 , 2.60315416,\n",
       "        3.87097637, 2.99041597, 2.4360238 , 2.2046065 ],\n",
       "       [1.95109686, 1.92988435, 0.81478875, 2.2215053 , 2.60315416,\n",
       "        3.87097637, 2.99041597, 2.4360238 , 2.2046065 ],\n",
       "       [1.95109686, 1.92988435, 0.81478875, 2.2215053 , 2.60315416,\n",
       "        3.87097637, 2.99041597, 2.4360238 , 2.2046065 ],\n",
       "       [1.95109686, 1.92988435, 0.81478875, 2.2215053 , 2.60315416,\n",
       "        3.87097637, 2.99041597, 2.4360238 , 2.2046065 ],\n",
       "       [1.95109686, 1.92988435, 0.81478875, 2.2215053 , 2.60315416,\n",
       "        3.87097637, 2.99041597, 2.4360238 , 2.2046065 ]])"
      ]
     },
     "execution_count": 35,
     "metadata": {},
     "output_type": "execute_result"
    }
   ],
   "source": [
    "np.dot(d,c) #dot product,i.e,multiplication of first row of d with first column of c and so on(Regular matrix multiplication)"
   ]
  },
  {
   "cell_type": "code",
   "execution_count": 37,
   "metadata": {},
   "outputs": [
    {
     "data": {
      "text/plain": [
       "0.13949386065204183"
      ]
     },
     "execution_count": 37,
     "metadata": {},
     "output_type": "execute_result"
    }
   ],
   "source": [
    "c[0,1] #indexing - 0th row & 1st column of c or 1st column of 0th row"
   ]
  },
  {
   "cell_type": "code",
   "execution_count": 38,
   "metadata": {},
   "outputs": [
    {
     "data": {
      "text/plain": [
       "array([0.61185289, 0.13949386, 0.29214465, 0.36636184, 0.45606998,\n",
       "       0.78517596, 0.19967378, 0.51423444, 0.59241457])"
      ]
     },
     "execution_count": 38,
     "metadata": {},
     "output_type": "execute_result"
    }
   ],
   "source": [
    "c[0]  #indexing - 0th row and all columns or all columns of 0th row"
   ]
  },
  {
   "cell_type": "code",
   "execution_count": 39,
   "metadata": {},
   "outputs": [
    {
     "data": {
      "text/plain": [
       "array([0., 0., 0., 0., 0.])"
      ]
     },
     "execution_count": 39,
     "metadata": {},
     "output_type": "execute_result"
    }
   ],
   "source": [
    "np.apply_along_axis(np.std,arr=d,axis=0) #apply std deviation along all elements along 0th axis of array d"
   ]
  },
  {
   "cell_type": "code",
   "execution_count": 40,
   "metadata": {},
   "outputs": [
    {
     "data": {
      "text/plain": [
       "array([5., 5., 5., 5., 5., 5., 5., 5., 5.])"
      ]
     },
     "execution_count": 40,
     "metadata": {},
     "output_type": "execute_result"
    }
   ],
   "source": [
    "np.apply_along_axis(np.sum,arr=d,axis=1) #summation of all elements along 1st axis of array d"
   ]
  },
  {
   "cell_type": "code",
   "execution_count": 41,
   "metadata": {},
   "outputs": [
    {
     "data": {
      "text/plain": [
       "array([0.39021937, 0.38597687, 0.16295775, 0.44430106, 0.52063083,\n",
       "       0.77419527, 0.59808319, 0.48720476, 0.4409213 ])"
      ]
     },
     "execution_count": 41,
     "metadata": {},
     "output_type": "execute_result"
    }
   ],
   "source": [
    "np.apply_along_axis(np.mean,arr=c,axis=0)#apply mean along all elements along 0th axis of array c"
   ]
  },
  {
   "cell_type": "code",
   "execution_count": 42,
   "metadata": {},
   "outputs": [
    {
     "data": {
      "text/plain": [
       "array([0.43971355, 0.44608575, 0.43536921, 0.70560563, 0.30905385])"
      ]
     },
     "execution_count": 42,
     "metadata": {},
     "output_type": "execute_result"
    }
   ],
   "source": [
    "np.apply_along_axis(np.mean,arr=c,axis=1)#apply mean along all elements along 1st axis of array c"
   ]
  },
  {
   "cell_type": "code",
   "execution_count": 60,
   "metadata": {},
   "outputs": [],
   "source": [
    "e = np.random.random((2,5))\n",
    "f = np.random.random((2,5))"
   ]
  },
  {
   "cell_type": "code",
   "execution_count": 51,
   "metadata": {},
   "outputs": [
    {
     "data": {
      "text/plain": [
       "array([[0.892559  , 0.53934224, 0.80744016, 0.8960913 , 0.31800347,\n",
       "        0.00695213, 0.5107473 , 0.417411  , 0.22210781, 0.11986537],\n",
       "       [0.11005192, 0.22793516, 0.42710779, 0.81801477, 0.86073058,\n",
       "        0.33761517, 0.9429097 , 0.32320293, 0.51879062, 0.70301896]])"
      ]
     },
     "execution_count": 51,
     "metadata": {},
     "output_type": "execute_result"
    }
   ],
   "source": [
    "np.column_stack((e,f))                  #stack all elements of e and f along the column"
   ]
  },
  {
   "cell_type": "code",
   "execution_count": 52,
   "metadata": {},
   "outputs": [
    {
     "data": {
      "text/plain": [
       "array([[0.892559  , 0.53934224, 0.80744016, 0.8960913 , 0.31800347],\n",
       "       [0.11005192, 0.22793516, 0.42710779, 0.81801477, 0.86073058],\n",
       "       [0.00695213, 0.5107473 , 0.417411  , 0.22210781, 0.11986537],\n",
       "       [0.33761517, 0.9429097 , 0.32320293, 0.51879062, 0.70301896]])"
      ]
     },
     "execution_count": 52,
     "metadata": {},
     "output_type": "execute_result"
    }
   ],
   "source": [
    "np.row_stack((e,f))                    #stack all elements of e and f along the row"
   ]
  },
  {
   "cell_type": "code",
   "execution_count": 55,
   "metadata": {},
   "outputs": [
    {
     "data": {
      "text/plain": [
       "[array([[0.892559  , 0.53934224, 0.80744016, 0.8960913 , 0.31800347],\n",
       "        [0.11005192, 0.22793516, 0.42710779, 0.81801477, 0.86073058]])]"
      ]
     },
     "execution_count": 55,
     "metadata": {},
     "output_type": "execute_result"
    }
   ],
   "source": [
    "np.vsplit(e,1)                        #split the elements vertically with 1 row in for each split"
   ]
  },
  {
   "cell_type": "code",
   "execution_count": 61,
   "metadata": {},
   "outputs": [
    {
     "data": {
      "text/plain": [
       "[array([[0.67756436, 0.01658783, 0.51209306, 0.22649578, 0.64517279],\n",
       "        [0.17436643, 0.69093774, 0.38673535, 0.93672999, 0.13752094]])]"
      ]
     },
     "execution_count": 61,
     "metadata": {},
     "output_type": "execute_result"
    }
   ],
   "source": [
    "np.hsplit(f,1)                        #split the elements horizontally with 1 column for each split"
   ]
  },
  {
   "cell_type": "code",
   "execution_count": 62,
   "metadata": {},
   "outputs": [
    {
     "data": {
      "text/plain": [
       "array([[0.67756436, 0.01658783, 0.51209306, 0.22649578, 0.64517279],\n",
       "       [0.17436643, 0.69093774, 0.38673535, 0.93672999, 0.13752094],\n",
       "       [0.36778313, 0.63230583, 0.63352971, 0.53577468, 0.09028977],\n",
       "       [0.8353025 , 0.32078006, 0.18651851, 0.04077514, 0.59089294]])"
      ]
     },
     "execution_count": 62,
     "metadata": {},
     "output_type": "execute_result"
    }
   ],
   "source": [
    "np.vstack((f,e))                      #stack the elements vertically with 1 row in for each stack"
   ]
  },
  {
   "cell_type": "code",
   "execution_count": 63,
   "metadata": {},
   "outputs": [
    {
     "data": {
      "text/plain": [
       "array([[0.67756436, 0.01658783, 0.51209306, 0.22649578, 0.64517279,\n",
       "        0.36778313, 0.63230583, 0.63352971, 0.53577468, 0.09028977],\n",
       "       [0.17436643, 0.69093774, 0.38673535, 0.93672999, 0.13752094,\n",
       "        0.8353025 , 0.32078006, 0.18651851, 0.04077514, 0.59089294]])"
      ]
     },
     "execution_count": 63,
     "metadata": {},
     "output_type": "execute_result"
    }
   ],
   "source": [
    "np.hstack((f,e))                    #stack the elements horizontally with 1 column for each stack"
   ]
  },
  {
   "cell_type": "markdown",
   "metadata": {},
   "source": [
    "# Pandas"
   ]
  },
  {
   "cell_type": "code",
   "execution_count": 64,
   "metadata": {},
   "outputs": [],
   "source": [
    "import pandas as pd"
   ]
  },
  {
   "cell_type": "code",
   "execution_count": 66,
   "metadata": {},
   "outputs": [
    {
     "data": {
      "text/plain": [
       "0    1\n",
       "1    5\n",
       "2    8\n",
       "3    5\n",
       "dtype: int64"
      ]
     },
     "execution_count": 66,
     "metadata": {},
     "output_type": "execute_result"
    }
   ],
   "source": [
    "series = pd.Series([1,5,8,5])\n",
    "series"
   ]
  },
  {
   "cell_type": "code",
   "execution_count": 68,
   "metadata": {},
   "outputs": [
    {
     "data": {
      "text/plain": [
       "a    3\n",
       "b    4\n",
       "c    5\n",
       "d    1\n",
       "e    5\n",
       "dtype: int64"
      ]
     },
     "execution_count": 68,
     "metadata": {},
     "output_type": "execute_result"
    }
   ],
   "source": [
    "series1 = pd.Series([3,4,5,1,5],index=['a','b','c','d','e'])\n",
    "series1"
   ]
  },
  {
   "cell_type": "code",
   "execution_count": 70,
   "metadata": {},
   "outputs": [
    {
     "data": {
      "text/plain": [
       "3"
      ]
     },
     "execution_count": 70,
     "metadata": {},
     "output_type": "execute_result"
    }
   ],
   "source": [
    "series1['a']"
   ]
  },
  {
   "cell_type": "code",
   "execution_count": 71,
   "metadata": {},
   "outputs": [
    {
     "data": {
      "text/plain": [
       "5"
      ]
     },
     "execution_count": 71,
     "metadata": {},
     "output_type": "execute_result"
    }
   ],
   "source": [
    "series[1]"
   ]
  },
  {
   "cell_type": "code",
   "execution_count": 73,
   "metadata": {},
   "outputs": [
    {
     "data": {
      "text/plain": [
       "a    3\n",
       "d    1\n",
       "dtype: int64"
      ]
     },
     "execution_count": 73,
     "metadata": {},
     "output_type": "execute_result"
    }
   ],
   "source": [
    "series1[['a','d']]"
   ]
  },
  {
   "cell_type": "code",
   "execution_count": 75,
   "metadata": {},
   "outputs": [
    {
     "data": {
      "text/plain": [
       "1    5\n",
       "3    5\n",
       "dtype: int64"
      ]
     },
     "execution_count": 75,
     "metadata": {},
     "output_type": "execute_result"
    }
   ],
   "source": [
    "series[[1,3]]"
   ]
  },
  {
   "cell_type": "code",
   "execution_count": 78,
   "metadata": {},
   "outputs": [
    {
     "data": {
      "text/plain": [
       "India    1234\n",
       "USA       132\n",
       "Spain     432\n",
       "dtype: int64"
      ]
     },
     "execution_count": 78,
     "metadata": {},
     "output_type": "execute_result"
    }
   ],
   "source": [
    "dictionary = {'India':1234,'USA':132,'Spain':432}\n",
    "series2 = pd.Series(dictionary)\n",
    "\n",
    "series2"
   ]
  },
  {
   "cell_type": "code",
   "execution_count": 79,
   "metadata": {},
   "outputs": [
    {
     "data": {
      "text/plain": [
       "India    1234\n",
       "USA       132\n",
       "dtype: int64"
      ]
     },
     "execution_count": 79,
     "metadata": {},
     "output_type": "execute_result"
    }
   ],
   "source": [
    "series2[['India','USA']]"
   ]
  },
  {
   "cell_type": "code",
   "execution_count": 84,
   "metadata": {},
   "outputs": [
    {
     "data": {
      "text/html": [
       "<div>\n",
       "<style scoped>\n",
       "    .dataframe tbody tr th:only-of-type {\n",
       "        vertical-align: middle;\n",
       "    }\n",
       "\n",
       "    .dataframe tbody tr th {\n",
       "        vertical-align: top;\n",
       "    }\n",
       "\n",
       "    .dataframe thead th {\n",
       "        text-align: right;\n",
       "    }\n",
       "</style>\n",
       "<table border=\"1\" class=\"dataframe\">\n",
       "  <thead>\n",
       "    <tr style=\"text-align: right;\">\n",
       "      <th></th>\n",
       "      <th>0</th>\n",
       "    </tr>\n",
       "  </thead>\n",
       "  <tbody>\n",
       "    <tr>\n",
       "      <th>India</th>\n",
       "      <td>1234</td>\n",
       "    </tr>\n",
       "    <tr>\n",
       "      <th>USA</th>\n",
       "      <td>132</td>\n",
       "    </tr>\n",
       "    <tr>\n",
       "      <th>Spain</th>\n",
       "      <td>432</td>\n",
       "    </tr>\n",
       "  </tbody>\n",
       "</table>\n",
       "</div>"
      ],
      "text/plain": [
       "          0\n",
       "India  1234\n",
       "USA     132\n",
       "Spain   432"
      ]
     },
     "execution_count": 84,
     "metadata": {},
     "output_type": "execute_result"
    }
   ],
   "source": [
    "dataframe = pd.DataFrame(series2)\n",
    "dataframe"
   ]
  },
  {
   "cell_type": "code",
   "execution_count": 88,
   "metadata": {},
   "outputs": [
    {
     "data": {
      "text/html": [
       "<div>\n",
       "<style scoped>\n",
       "    .dataframe tbody tr th:only-of-type {\n",
       "        vertical-align: middle;\n",
       "    }\n",
       "\n",
       "    .dataframe tbody tr th {\n",
       "        vertical-align: top;\n",
       "    }\n",
       "\n",
       "    .dataframe thead th {\n",
       "        text-align: right;\n",
       "    }\n",
       "</style>\n",
       "<table border=\"1\" class=\"dataframe\">\n",
       "  <thead>\n",
       "    <tr style=\"text-align: right;\">\n",
       "      <th></th>\n",
       "      <th>0</th>\n",
       "    </tr>\n",
       "  </thead>\n",
       "  <tbody>\n",
       "    <tr>\n",
       "      <th>India</th>\n",
       "      <td>1234</td>\n",
       "    </tr>\n",
       "    <tr>\n",
       "      <th>Spain</th>\n",
       "      <td>432</td>\n",
       "    </tr>\n",
       "  </tbody>\n",
       "</table>\n",
       "</div>"
      ],
      "text/plain": [
       "          0\n",
       "India  1234\n",
       "Spain   432"
      ]
     },
     "execution_count": 88,
     "metadata": {},
     "output_type": "execute_result"
    }
   ],
   "source": [
    "dataframe.loc[['India','Spain']]"
   ]
  },
  {
   "cell_type": "code",
   "execution_count": 89,
   "metadata": {},
   "outputs": [
    {
     "data": {
      "text/plain": [
       "1234"
      ]
     },
     "execution_count": 89,
     "metadata": {},
     "output_type": "execute_result"
    }
   ],
   "source": [
    "dataframe.loc['India'][0]"
   ]
  },
  {
   "cell_type": "code",
   "execution_count": 90,
   "metadata": {},
   "outputs": [
    {
     "data": {
      "text/plain": [
       "0    1234\n",
       "Name: India, dtype: int64"
      ]
     },
     "execution_count": 90,
     "metadata": {},
     "output_type": "execute_result"
    }
   ],
   "source": [
    "dataframe.loc['India']"
   ]
  },
  {
   "cell_type": "code",
   "execution_count": null,
   "metadata": {},
   "outputs": [],
   "source": []
  }
 ],
 "metadata": {
  "kernelspec": {
   "display_name": "Python 3",
   "language": "python",
   "name": "python3"
  },
  "language_info": {
   "codemirror_mode": {
    "name": "ipython",
    "version": 3
   },
   "file_extension": ".py",
   "mimetype": "text/x-python",
   "name": "python",
   "nbconvert_exporter": "python",
   "pygments_lexer": "ipython3",
   "version": "3.6.5"
  }
 },
 "nbformat": 4,
 "nbformat_minor": 2
}
